{
 "cells": [
  {
   "cell_type": "code",
   "execution_count": 71,
   "metadata": {},
   "outputs": [],
   "source": [
    "import numpy as np\n",
    "import itertools"
   ]
  },
  {
   "cell_type": "code",
   "execution_count": 72,
   "metadata": {},
   "outputs": [],
   "source": [
    "def check(i):\n",
    "    global N\n",
    "    global nb\n",
    "    \n",
    "\n",
    "    op_list = [list(j) for j in itertools.product([0, 1], repeat=N-1)]\n",
    "    perm_list = [list(j) for j in itertools.permutations(nb)]\n",
    "    for k in range(1,N+1):\n",
    "        for op in op_list:\n",
    "            for perm in perm_list:\n",
    "                if compute(perm,op,k) == i:\n",
    "                    return True\n",
    "    return False\n",
    "        \n",
    "        "
   ]
  },
  {
   "cell_type": "code",
   "execution_count": 73,
   "metadata": {},
   "outputs": [],
   "source": [
    "def compute(tab, op, k):\n",
    "    tab = tab[:k]\n",
    "    op = op[:k-1]\n",
    "    res = tab[0]\n",
    "    for i in range(k-1):\n",
    "        if (op[i]):\n",
    "            res = res * tab[i+1]\n",
    "        else:\n",
    "            res = res + tab[i+1]\n",
    "    return res"
   ]
  },
  {
   "cell_type": "code",
   "execution_count": 76,
   "metadata": {},
   "outputs": [
    {
     "name": "stdout",
     "output_type": "stream",
     "text": [
      "The FUN for the first 6 counting digits is 179.\n"
     ]
    }
   ],
   "source": [
    "N = 6# the number of counting digits\n",
    "nb = np.arange(N) + 1\n",
    "\n",
    "i = 1\n",
    "while(check(i)):\n",
    "    i = i+1\n",
    "print(\"The FUN for the first {0} counting digits is {1}.\".format(N,i))"
   ]
  },
  {
   "cell_type": "code",
   "execution_count": null,
   "metadata": {},
   "outputs": [],
   "source": []
  },
  {
   "cell_type": "code",
   "execution_count": null,
   "metadata": {},
   "outputs": [],
   "source": []
  }
 ],
 "metadata": {
  "kernelspec": {
   "display_name": "Python 3",
   "language": "python",
   "name": "python3"
  },
  "language_info": {
   "codemirror_mode": {
    "name": "ipython",
    "version": 3
   },
   "file_extension": ".py",
   "mimetype": "text/x-python",
   "name": "python",
   "nbconvert_exporter": "python",
   "pygments_lexer": "ipython3",
   "version": "3.8.5"
  },
  "latex_envs": {
   "LaTeX_envs_menu_present": true,
   "autoclose": false,
   "autocomplete": false,
   "bibliofile": "biblio.bib",
   "cite_by": "apalike",
   "current_citInitial": 1,
   "eqLabelWithNumbers": true,
   "eqNumInitial": 1,
   "hotkeys": {
    "equation": "Ctrl-E",
    "itemize": "Ctrl-I"
   },
   "labels_anchors": false,
   "latex_user_defs": false,
   "report_style_numbering": false,
   "user_envs_cfg": false
  }
 },
 "nbformat": 4,
 "nbformat_minor": 4
}
