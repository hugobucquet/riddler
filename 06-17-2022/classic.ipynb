{
 "cells": [
  {
   "cell_type": "code",
   "execution_count": 35,
   "metadata": {},
   "outputs": [],
   "source": [
    "import numpy as np\n",
    "import matplotlib.pyplot as plt\n",
    "from matplotlib import colors\n",
    "import numpy as np\n",
    "from matplotlib import animation"
   ]
  },
  {
   "cell_type": "code",
   "execution_count": 36,
   "metadata": {},
   "outputs": [],
   "source": [
    "x = np.linspace(11,30,20)\n",
    "y = []\n",
    "\n",
    "for i in range(11, 31):\n",
    "    res = 1\n",
    "    for j in range(8):\n",
    "        res = res * (i-j) / (2*i - j)\n",
    "    for j in range(11):\n",
    "        res = res * (i - j) / (2*i - j - 8)\n",
    "    y.append(res)"
   ]
  },
  {
   "cell_type": "code",
   "execution_count": 37,
   "metadata": {},
   "outputs": [
    {
     "name": "stdout",
     "output_type": "stream",
     "text": [
      "[1.4175710770138016e-06, 1.8490057526266978e-06, 2.0191142818683535e-06, 2.093896292307923e-06, 2.127419262504972e-06, 2.1411445480695193e-06, 2.1447491685208143e-06, 2.1429983528730424e-06, 2.1383911696819752e-06, 2.1322988871472696e-06, 2.125497933848675e-06, 2.1184364789189455e-06, 2.111375023989216e-06, 2.1044638127813963e-06, 2.0977869853870455e-06, 2.091388506564514e-06, 2.0852877580659703e-06, 2.0794890969205457e-06, 2.07398780301335e-06, 2.0687738202144348e-06]\n"
     ]
    },
    {
     "data": {
      "image/png": "[encoded data removed]",
      "text/plain": [
       "<Figure size 432x288 with 1 Axes>"
      ]
     },
     "metadata": {
      "needs_background": "light"
     },
     "output_type": "display_data"
    }
   ],
   "source": [
    "l = np.linspace(y[6], y[6], 20)\n",
    "plt.scatter(x,y)\n",
    "plt.plot(x,l, color='red')\n",
    "print(y)"
   ]
  },
  {
   "cell_type": "code",
   "execution_count": null,
   "metadata": {},
   "outputs": [],
   "source": []
  }
 ],
 "metadata": {
  "kernelspec": {
   "display_name": "Python 3",
   "language": "python",
   "name": "python3"
  },
  "language_info": {
   "codemirror_mode": {
    "name": "ipython",
    "version": 3
   },
   "file_extension": ".py",
   "mimetype": "text/x-python",
   "name": "python",
   "nbconvert_exporter": "python",
   "pygments_lexer": "ipython3",
   "version": "3.8.5"
  },
  "latex_envs": {
   "LaTeX_envs_menu_present": true,
   "autoclose": false,
   "autocomplete": false,
   "bibliofile": "biblio.bib",
   "cite_by": "apalike",
   "current_citInitial": 1,
   "eqLabelWithNumbers": true,
   "eqNumInitial": 1,
   "hotkeys": {
    "equation": "Ctrl-E",
    "itemize": "Ctrl-I"
   },
   "labels_anchors": false,
   "latex_user_defs": false,
   "report_style_numbering": false,
   "user_envs_cfg": false
  }
 },
 "nbformat": 4,
 "nbformat_minor": 4
}
